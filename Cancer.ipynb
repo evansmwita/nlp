{
  "nbformat": 4,
  "nbformat_minor": 0,
  "metadata": {
    "colab": {
      "provenance": []
    },
    "kernelspec": {
      "name": "python3",
      "display_name": "Python 3"
    },
    "language_info": {
      "name": "python"
    }
  },
  "cells": [
    {
      "cell_type": "markdown",
      "source": [
        "##**A. From the dataset given, write a detailed description of each of the variable in the dataset.**"
      ],
      "metadata": {
        "id": "jqLq-lRSZJtn"
      }
    },
    {
      "cell_type": "markdown",
      "source": [
        "#**B. Write a Jupyter Notebook with detailed descriptions and comments performing the tasks outlined below. Each task to be performed in a different cell.**\n",
        "###1) Import the necessary python libraries for data analysis and explain the use of each library.\n"
      ],
      "metadata": {
        "id": "jZNV1n2obTGd"
      }
    },
    {
      "cell_type": "code",
      "source": [
        "import pandas as pd\n",
        "import numpy as np\n",
        "import matplotlib.pyplot as plt\n",
        "import seaborn as sns"
      ],
      "metadata": {
        "id": "eCbSn616ZNfa"
      },
      "execution_count": null,
      "outputs": []
    },
    {
      "cell_type": "markdown",
      "source": [
        "###2) Import/Load the dataset into a pandas DataFrame.\n"
      ],
      "metadata": {
        "id": "NDmQ7YlRbu_j"
      }
    },
    {
      "cell_type": "code",
      "source": [
        "data = pd.read_csv('breast-cancer.csv')\n",
        "data"
      ],
      "metadata": {
        "id": "DymKyFf5Zd1h"
      },
      "execution_count": null,
      "outputs": []
    },
    {
      "cell_type": "markdown",
      "source": [
        "3) Check the dataset by:\n",
        "a) Examining a few rows and the structure of the dataset"
      ],
      "metadata": {
        "id": "0N2Y3P4_qdF9"
      }
    },
    {
      "cell_type": "code",
      "source": [
        "data.head()"
      ],
      "metadata": {
        "id": "PZIVOY0Vqfke"
      },
      "execution_count": null,
      "outputs": []
    },
    {
      "cell_type": "code",
      "source": [
        "data.info()"
      ],
      "metadata": {
        "id": "gBnSqNTWqt87"
      },
      "execution_count": null,
      "outputs": []
    },
    {
      "cell_type": "markdown",
      "source": [
        "####b) Displaying the summary statistics"
      ],
      "metadata": {
        "id": "0-aPpezDrUMK"
      }
    },
    {
      "cell_type": "code",
      "source": [
        "data.describe()"
      ],
      "metadata": {
        "id": "bHmIpxiTrTaI"
      },
      "execution_count": null,
      "outputs": []
    },
    {
      "cell_type": "markdown",
      "source": [
        "###c) Determining the column names and the data types of the variables."
      ],
      "metadata": {
        "id": "wps8T9TqsVE6"
      }
    },
    {
      "cell_type": "code",
      "source": [
        "data.columns"
      ],
      "metadata": {
        "id": "owxTd--QZmwa"
      },
      "execution_count": null,
      "outputs": []
    },
    {
      "cell_type": "code",
      "source": [
        "#rename the columns\n",
        "data.rename(columns={'concave points_worst': 'concave_points_worst','concave points_se':'concave_points_se','concave points_mean':'concave_points_mean'}, inplace=True)"
      ],
      "metadata": {
        "id": "zwUe9jN8ZrSy"
      },
      "execution_count": null,
      "outputs": []
    },
    {
      "cell_type": "code",
      "source": [
        "data.columns"
      ],
      "metadata": {
        "id": "emA4qyNYeY7c"
      },
      "execution_count": null,
      "outputs": []
    },
    {
      "cell_type": "markdown",
      "source": [
        "###4) Check and deal with the missing values in the dataset."
      ],
      "metadata": {
        "id": "JiDxPP7RyBZD"
      }
    },
    {
      "cell_type": "code",
      "source": [
        "data.isnull().sum()"
      ],
      "metadata": {
        "id": "MvBiIFbrwx2U"
      },
      "execution_count": null,
      "outputs": []
    },
    {
      "cell_type": "markdown",
      "source": [
        "No missing values"
      ],
      "metadata": {
        "id": "DvkzN9JZyMwq"
      }
    },
    {
      "cell_type": "markdown",
      "source": [
        "###5) Checking and handling outliers. Identify and decide on a method to handle outliers (discuss the options)"
      ],
      "metadata": {
        "id": "bBGSPFQkyWxg"
      }
    },
    {
      "cell_type": "code",
      "source": [
        "# IQR method to find columns with outliers\n",
        "# Identify numeric columns\n",
        "numeric_columns = data.select_dtypes(include=['float64', 'int64']).columns\n",
        "\n",
        "# Calculate quantiles for numeric columns\n",
        "q1 = data[numeric_columns].quantile(0.25)\n",
        "q3 =data[numeric_columns].quantile(0.75)\n",
        "iqr = q3 - q1\n",
        "\n",
        "# Identify outliers\n",
        "outliers_df = data[\n",
        "    ((data[numeric_columns] < (q1 - 1.5 * iqr)) | (data[numeric_columns] > (q3 + 1.5 * iqr))).any(axis=1)\n",
        "]\n",
        "outliers_df"
      ],
      "metadata": {
        "id": "ysOfwcNnyJWC"
      },
      "execution_count": null,
      "outputs": []
    },
    {
      "cell_type": "code",
      "source": [
        "import pandas as pd\n",
        "\n",
        "# Load the dataset\n",
        "df = pd.read_csv('breast-cancer.csv')\n",
        "\n",
        "# Function to replace outliers with Q3\n",
        "def replace_outliers_with_q3(df):\n",
        "    df_replaced = df.copy()\n",
        "    for column in df.select_dtypes(include=['float64', 'int64']).columns:\n",
        "        Q1 = df[column].quantile(0.25)\n",
        "        Q3 = df[column].quantile(0.75)\n",
        "        IQR = Q3 - Q1\n",
        "        lower_bound = Q1 - 1.5 * IQR\n",
        "        upper_bound = Q3 + 1.5 * IQR\n",
        "\n",
        "        # Identify outliers\n",
        "        outliers = (df[column] < lower_bound) | (df[column] > upper_bound)\n",
        "\n",
        "        # Replace outliers with Q3\n",
        "        df_replaced.loc[outliers, column] = Q3\n",
        "\n",
        "    return df_replaced\n",
        "\n",
        "# Apply the function to the dataframe\n",
        "df_replaced = replace_outliers_with_q3(df)\n",
        "\n",
        "# Merge the replaced values back into the original dataset\n",
        "df.update(df_replaced)\n",
        "\n",
        "# Display the first few rows of the modified data\n",
        "df"
      ],
      "metadata": {
        "id": "hZHWxAlU87lv"
      },
      "execution_count": null,
      "outputs": []
    },
    {
      "cell_type": "code",
      "source": [
        "#plot the the box plot\n",
        "selected_columns = ['radius_mean', 'texture_mean', 'perimeter_mean', 'area_mean', 'smoothness_mean']\n",
        "plt.figure(figsize=(15, 10))\n",
        "sns.boxplot(data=df[selected_columns])\n",
        "plt.title('Boxplot of Selected Features After Replacing Outliers with Q3')\n",
        "plt.show()"
      ],
      "metadata": {
        "id": "L1NuMKe2DMXh"
      },
      "execution_count": null,
      "outputs": []
    },
    {
      "cell_type": "markdown",
      "source": [
        "###**Reason for Choosing Q3 method**\n",
        "Using Q3 to handle outliers is a reasonable approach when we want to retain all data points and reduce the influence of extreme values. It strikes a balance between simplicity, effectiveness, and data retention, making it suitable for many types of data and analysis goals."
      ],
      "metadata": {
        "id": "fNPvhVNdF8qS"
      }
    },
    {
      "cell_type": "markdown",
      "source": [
        "###* 6)"
      ],
      "metadata": {
        "id": "oUj4NHQZHMa4"
      }
    },
    {
      "cell_type": "code",
      "source": [
        "sns.pairplot(df)\n",
        "plt.show()"
      ],
      "metadata": {
        "id": "bUk-ZhB5D1MH"
      },
      "execution_count": null,
      "outputs": []
    },
    {
      "cell_type": "code",
      "source": [],
      "metadata": {
        "id": "dscCppOWHjoi"
      },
      "execution_count": null,
      "outputs": []
    }
  ]
}